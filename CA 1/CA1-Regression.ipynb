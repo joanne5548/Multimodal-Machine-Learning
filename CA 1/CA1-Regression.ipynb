{
 "cells": [
  {
   "cell_type": "markdown",
   "id": "8775da88",
   "metadata": {},
   "source": [
    "# OLS Regression"
   ]
  },
  {
   "cell_type": "code",
   "execution_count": 1,
   "id": "1ef39293",
   "metadata": {
    "scrolled": false
   },
   "outputs": [
    {
     "name": "stdout",
     "output_type": "stream",
     "text": [
      "                            OLS Regression Results                            \n",
      "==============================================================================\n",
      "Dep. Variable:                    SUS   R-squared:                       0.593\n",
      "Model:                            OLS   Adj. R-squared:                  0.571\n",
      "Method:                 Least Squares   F-statistic:                     27.39\n",
      "Date:                Wed, 01 Feb 2023   Prob (F-statistic):           5.25e-17\n",
      "Time:                        22:14:39   Log-Likelihood:                -362.39\n",
      "No. Observations:                 100   AIC:                             736.8\n",
      "Df Residuals:                      94   BIC:                             752.4\n",
      "Df Model:                           5                                         \n",
      "Covariance Type:            nonrobust                                         \n",
      "================================================================================\n",
      "                   coef    std err          t      P>|t|      [0.025      0.975]\n",
      "--------------------------------------------------------------------------------\n",
      "const           93.0282      5.541     16.788      0.000      82.026     104.031\n",
      "Purchase         1.3412      3.676      0.365      0.716      -5.958       8.641\n",
      "Duration        -0.0002      0.010     -0.025      0.980      -0.020       0.019\n",
      "Gender           0.8367      1.971      0.425      0.672      -3.076       4.749\n",
      "ASR_Error       -1.4254      0.401     -3.553      0.001      -2.222      -0.629\n",
      "Intent_Error    -2.0092      0.439     -4.572      0.000      -2.882      -1.137\n",
      "==============================================================================\n",
      "Omnibus:                        6.969   Durbin-Watson:                   2.023\n",
      "Prob(Omnibus):                  0.031   Jarque-Bera (JB):                8.115\n",
      "Skew:                          -0.378   Prob(JB):                       0.0173\n",
      "Kurtosis:                       4.173   Cond. No.                     1.27e+03\n",
      "==============================================================================\n",
      "\n",
      "Notes:\n",
      "[1] Standard Errors assume that the covariance matrix of the errors is correctly specified.\n",
      "[2] The condition number is large, 1.27e+03. This might indicate that there are\n",
      "strong multicollinearity or other numerical problems.\n"
     ]
    }
   ],
   "source": [
    "import pandas as pd\n",
    "import statsmodels.api as sm\n",
    "\n",
    "df = pd.read_csv('data.csv')\n",
    "\n",
    "y = df['SUS']\n",
    "x = df.drop(columns=['SUS', 'Unnamed: 6'])\n",
    "x = sm.add_constant(x)\n",
    "\n",
    "# Show OLS Regression Report\n",
    "model = sm.OLS(y, x).fit()\n",
    "print(model.summary())"
   ]
  },
  {
   "cell_type": "markdown",
   "id": "d37580ab",
   "metadata": {},
   "source": [
    "If we take a = 0.05, then the significant factors to SUS would be ASR_Error (0.001), Intent_Error (0.000)."
   ]
  },
  {
   "cell_type": "markdown",
   "id": "5e0a1904",
   "metadata": {},
   "source": [
    "# Regression Analysis"
   ]
  },
  {
   "cell_type": "code",
   "execution_count": 5,
   "id": "e390b255",
   "metadata": {},
   "outputs": [
    {
     "name": "stdout",
     "output_type": "stream",
     "text": [
      "    Purchase  Duration  Gender  ASR_Error  Intent_Error\n",
      "0          1       254       0          3             2\n",
      "1          0       247       0          6             9\n",
      "2          0       125       1          6             8\n",
      "3          0        22       0         11             7\n",
      "4          1       262       0          2             3\n",
      "..       ...       ...     ...        ...           ...\n",
      "95         0       358       0         13             7\n",
      "96         1        71       0          3             0\n",
      "97         0        34       1          0             9\n",
      "98         1        49       1          4             1\n",
      "99         1       213       0          1             4\n",
      "\n",
      "[100 rows x 5 columns]\n"
     ]
    }
   ],
   "source": [
    "from sklearn.linear_model import LinearRegression\n",
    "from sklearn.model_selection import train_test_split\n",
    "from sklearn.preprocessing import PolynomialFeatures\n",
    "from sklearn.metrics import r2_score,mean_squared_error\n",
    "\n",
    "y = df['SUS']\n",
    "x = df.drop(columns=['SUS', 'Unnamed: 6'])\n",
    "print(x)\n",
    "\n",
    "# Split the data\n",
    "x_train, x_test, y_train, y_test = train_test_split(x, y, random_state=4)"
   ]
  },
  {
   "cell_type": "markdown",
   "id": "fdcb85c2",
   "metadata": {},
   "source": [
    "## Linear Regression"
   ]
  },
  {
   "cell_type": "code",
   "execution_count": 6,
   "id": "3b783fd2",
   "metadata": {},
   "outputs": [
    {
     "name": "stdout",
     "output_type": "stream",
     "text": [
      "\n",
      "The R square score of linear regression model is:  0.628117280347927\n"
     ]
    }
   ],
   "source": [
    "# If you're fitting the line here, why predict again later?\n",
    "lr = LinearRegression().fit(x_train, y_train)\n",
    "\n",
    "y_train_pred = lr.predict(x_train)\n",
    "y_test_pred = lr.predict(x_test)\n",
    "\n",
    "# Calculate the r squared score\n",
    "print(\"The R square score of linear regression model is: \", lr.score(x_test, y_test))"
   ]
  },
  {
   "cell_type": "markdown",
   "id": "accaec49",
   "metadata": {},
   "source": [
    "About 62.8% of dependent variable (response variable) can be explained from 5 independent variables (predictor variables) in the model."
   ]
  },
  {
   "cell_type": "markdown",
   "id": "25d1912f",
   "metadata": {},
   "source": [
    "## Quadratic Regression"
   ]
  },
  {
   "cell_type": "code",
   "execution_count": 4,
   "id": "6905a4cf",
   "metadata": {},
   "outputs": [
    {
     "name": "stdout",
     "output_type": "stream",
     "text": [
      "The R square score of 2-order polynomial regression model is:  0.6129411048927595\n"
     ]
    }
   ],
   "source": [
    "quad = PolynomialFeatures(degree=2)\n",
    "\n",
    "x_quad = quad.fit_transform(x)\n",
    "\n",
    "# Split the dataset\n",
    "X_train, X_test, Y_train, Y_test = train_test_split(x_quad, y)\n",
    "\n",
    "# Train the model\n",
    "plr = LinearRegression().fit(X_train, Y_train)\n",
    "\n",
    "Y_train_pred = plr.predict(X_train)\n",
    "Y_test_pred = plr.predict(X_test)\n",
    "\n",
    "print(\"The R square score of 2-order polynomial regression model is: \", plr.score(X_test, Y_test))"
   ]
  },
  {
   "cell_type": "markdown",
   "id": "72f63dfe",
   "metadata": {},
   "source": [
    "# Questions\n",
    "2. What features are significant? What features are insignificant?\n",
    "- Purchase, Duration, Gender factors are insignificant since all their p-values are under a = 0.05. ASR_Error and Intent_Error are statistically significant since their p-values are under 0.05.\n",
    "\n",
    "\n",
    "3. Were the results what you expected? Explain why or why not, for each feature.\n",
    "- Purchase: I predicted that this would have some significance becuase whether or not people were able to achieve their task (buy a ticket) might be important to user experience. However, its p-value is .716, which is insignificant.\n",
    "- Duration: I didn't think duration would matter much because for some cases, a user might get frustrated fast and end it early or a user might have lots of questions to ask while Siri was able to answer them perfectly. It did come out as insignificant with p-value of 0.98.\n",
    "- Gender: I didn't think this factor would be significant because I don't think there is any factor that gender would matter in buying a flight ticket. It also came out as insignificant with a p-value of 0.67.\n",
    "- ASR_Error: I did think this would be significant because it would be frustrating if Siri isn't able to understand what the user is talking about. It came out as significant with p-value of 0.001.\n",
    "- Intent_Error: For the same reason for ASR_Error, I also predicted that this would be a significant factor. It came out with p-value of 0, which shows that whether or not Siri is able to understand the intent of the speech properly influences SUS immensly.\n",
    "\n",
    "\n",
    "4. What does the model suggest is the most influential factor on SUS? Explain what tells you this is the most influential factor statistically.\n",
    "- The model suggests that ASR_Error and Intent_Error is the most influencial factors statistically with p-values of 0.001 and 0 each.\n",
    "\n",
    "\n",
    "5. What are the potential reasons for these factor(s) being significant predictors of SUS?\n",
    "- I believe how well Siri can understand user's speech is directly related to achieving the task of buying the flight ticket. If Siri can't help users progress through steps of buying the tickets, then it would unnecessarily lengthen the duration of the conversation, and it is likely that the user would get tired of repeating themselves."
   ]
  }
 ],
 "metadata": {
  "kernelspec": {
   "display_name": "Python 3 (ipykernel)",
   "language": "python",
   "name": "python3"
  },
  "language_info": {
   "codemirror_mode": {
    "name": "ipython",
    "version": 3
   },
   "file_extension": ".py",
   "mimetype": "text/x-python",
   "name": "python",
   "nbconvert_exporter": "python",
   "pygments_lexer": "ipython3",
   "version": "3.9.13"
  }
 },
 "nbformat": 4,
 "nbformat_minor": 5
}
