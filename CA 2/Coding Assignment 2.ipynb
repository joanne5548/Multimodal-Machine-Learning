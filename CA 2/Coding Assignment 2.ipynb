{
 "cells": [
  {
   "cell_type": "markdown",
   "id": "e3fa5953",
   "metadata": {},
   "source": [
    "# Exploratory Data Analysis"
   ]
  },
  {
   "cell_type": "markdown",
   "id": "e934dba3",
   "metadata": {},
   "source": [
    "## Clean Data"
   ]
  },
  {
   "cell_type": "code",
   "execution_count": 1,
   "id": "cddd7871",
   "metadata": {},
   "outputs": [
    {
     "name": "stdout",
     "output_type": "stream",
     "text": [
      "   Index  Sentiment                                               Text\n",
      "0      0          1  @stellargirl I loooooooovvvvvveee my Kindle2. ...\n",
      "1      1          1  Reading my kindle2...  Love it... Lee childs i...\n",
      "2      2          1  Ok, first assesment of the #kindle2 ...it fuck...\n",
      "3      3          1  @kenburbary You'll love your Kindle2. I've had...\n",
      "4      4          1  @mikefish  Fair enough. But i have the Kindle2...\n",
      "    Index  Sentiment                                               Text\n",
      "0  908838          1   phew!  made it thru the return of babysitting!  \n",
      "1    1925          0  Going to sleep... hoping to wake up and tommor...\n",
      "2  923718          1  Lunch, quick room-tidy, shave of head and face...\n",
      "3  756325          0                             I have a bad headache \n",
      "4  919802          1  @Emmaloid you? hungover? never  I am not hungo...\n",
      "\n"
     ]
    }
   ],
   "source": [
    "import pandas as pd\n",
    "from sklearn.utils import shuffle\n",
    "\n",
    "# import datasets\n",
    "train = pd.read_csv('train.csv')\n",
    "test = pd.read_csv('test.csv')\n",
    "\n",
    "# Drop index column\n",
    "train.drop('Index', axis=1)\n",
    "test.drop('Index', axis=1)\n",
    "\n",
    "# balance out the train dataset to have equal size of 0's and 1's\n",
    "# Undersample 0's\n",
    "positive = train[train['Sentiment']==1]\n",
    "negative = train[train['Sentiment']==0]\n",
    "negative = negative.sample(n=len(positive))\n",
    "train = pd.concat([positive, negative], axis=0)\n",
    "train = shuffle(train)\n",
    "train = train.iloc[::50, :].reset_index(drop=True)\n",
    "\n",
    "# Show dataset\n",
    "print(test.head())\n",
    "print(train.head())"
   ]
  },
  {
   "cell_type": "code",
   "execution_count": 2,
   "id": "ed058359",
   "metadata": {},
   "outputs": [
    {
     "name": "stdout",
     "output_type": "stream",
     "text": [
      "Index        0\n",
      "Sentiment    0\n",
      "Text         0\n",
      "dtype: int64\n",
      "Index        0\n",
      "Sentiment    0\n",
      "Text         0\n",
      "dtype: int64\n"
     ]
    }
   ],
   "source": [
    "# Check if any of dataset has missing values\n",
    "print(test.isna().sum())\n",
    "print(train.isna().sum())"
   ]
  },
  {
   "cell_type": "code",
   "execution_count": 3,
   "id": "85275f72",
   "metadata": {},
   "outputs": [
    {
     "data": {
      "text/plain": [
       "(array([0, 1]), [Text(0, 0, '0'), Text(1, 0, '1')])"
      ]
     },
     "execution_count": 3,
     "metadata": {},
     "output_type": "execute_result"
    },
    {
     "data": {
      "image/png": "[encoded data removed]",
      "text/plain": [
       "<Figure size 640x480 with 1 Axes>"
      ]
     },
     "metadata": {},
     "output_type": "display_data"
    },
    {
     "data": {
      "image/png": "[encoded data removed]",
      "text/plain": [
       "<Figure size 640x480 with 1 Axes>"
      ]
     },
     "metadata": {},
     "output_type": "display_data"
    }
   ],
   "source": [
    "import matplotlib as mpl\n",
    "import matplotlib.pyplot as plt\n",
    "\n",
    "# Sentiment distribution for train dataset\n",
    "train_senti = train.groupby('Sentiment').count()\n",
    "train_senti = train_senti.drop(columns=['Index'])\n",
    "train_senti.plot(kind='bar')\n",
    "plt.xticks(rotation=0)\n",
    "\n",
    "# Visualize sentiment distribution for test datastet\n",
    "test_senti = test.groupby('Sentiment').count()\n",
    "test_senti = test_senti.drop(columns=['Index'])\n",
    "test_senti.plot(kind='bar')\n",
    "plt.xticks(rotation=0)"
   ]
  },
  {
   "cell_type": "markdown",
   "id": "98bd6c92",
   "metadata": {},
   "source": [
    "# Text Preprocessing"
   ]
  },
  {
   "cell_type": "code",
   "execution_count": 4,
   "id": "2cd76a10",
   "metadata": {
    "scrolled": true
   },
   "outputs": [],
   "source": [
    "import nltk\n",
    "from nltk.tokenize import sent_tokenize, word_tokenize\n",
    "import re\n",
    "from nltk.corpus import stopwords\n",
    "from nltk.stem.snowball import SnowballStemmer"
   ]
  },
  {
   "cell_type": "code",
   "execution_count": 5,
   "id": "506742c5",
   "metadata": {},
   "outputs": [],
   "source": [
    "def preprocess(column):\n",
    "\n",
    "    # Lowercase the text\n",
    "    step_2_corpus=column.lower()\n",
    "\n",
    "    # deconcentrate\n",
    "    step_3_corpus = re.sub(r\"won\\'t\", \"will not\", step_2_corpus)\n",
    "    step_3_corpus = re.sub(r\"can\\'t\", \"can not\", step_3_corpus)\n",
    "    step_3_corpus = re.sub(r\"n\\'t\", \" not\", step_3_corpus)\n",
    "    step_3_corpus = re.sub(r\"\\'re\", \" are\", step_3_corpus)\n",
    "    step_3_corpus = re.sub(r\"\\'s\", \" is\", step_3_corpus)\n",
    "    step_3_corpus = re.sub(r\"\\'d\", \" would\", step_3_corpus)\n",
    "    step_3_corpus = re.sub(r\"\\'t\", \" not\", step_3_corpus)\n",
    "    step_3_corpus = re.sub(r\"\\'ll\", \" will\", step_3_corpus)\n",
    "    step_3_corpus = re.sub(r\"\\'ve\", \" have\", step_3_corpus)\n",
    "    step_3_corpus = re.sub(r\"\\'m\", \" am\", step_3_corpus)\n",
    "\n",
    "    # Remove digits and special characters\n",
    "    step_4_corpus = re.sub('[0-9]', '', step_3_corpus)\n",
    "    step_4_corpus = re.sub(\"[^a-z0-9<>]\", ' ', step_4_corpus)\n",
    "\n",
    "    # Remove stopwords\n",
    "    stop_words = set(stopwords.words('english'))\n",
    "    step_5_corpus = [w for w in step_4_corpus.split() if not w in stopwords.words('english')]\n",
    "\n",
    "    # Stemming\n",
    "    stemmer = SnowballStemmer('english')\n",
    "    step_6_corpus=[]\n",
    "    for word in step_5_corpus:\n",
    "        stemmed_word = stemmer.stem(word)\n",
    "        step_6_corpus.append(stemmed_word)\n",
    "\n",
    "    new_sentence = \" \".join(step_6_corpus)\n",
    "    return new_sentence"
   ]
  },
  {
   "cell_type": "code",
   "execution_count": 6,
   "id": "151a26a3",
   "metadata": {},
   "outputs": [],
   "source": [
    "# Preprocess train and test datasets\n",
    "train['Preprocess'] = train['Text'].apply(preprocess)\n",
    "test['Preprocess'] = test['Text'].apply(preprocess)"
   ]
  },
  {
   "cell_type": "markdown",
   "id": "c61b23d0",
   "metadata": {},
   "source": [
    "# Linguistic Feature Extraction"
   ]
  },
  {
   "cell_type": "code",
   "execution_count": 7,
   "id": "1d56dd50",
   "metadata": {},
   "outputs": [],
   "source": [
    "import numpy as np\n",
    "from sklearn.feature_extraction.text import CountVectorizer\n",
    "from sklearn.model_selection import train_test_split\n",
    "from sklearn.feature_extraction.text import TfidfVectorizer\n",
    "\n",
    "# Prepare y value (dependent variable), Sentiment\n",
    "y_train = train.iloc[:, 1]\n",
    "y_test = test.iloc[:, 1]"
   ]
  },
  {
   "cell_type": "markdown",
   "id": "261f5c85",
   "metadata": {},
   "source": [
    "## Bag of Words"
   ]
  },
  {
   "cell_type": "code",
   "execution_count": 8,
   "id": "b72ba72d",
   "metadata": {},
   "outputs": [],
   "source": [
    "# Prepare data for BOW\n",
    "vectorizer = CountVectorizer(max_features=1000)\n",
    "\n",
    "# fit, transform & split train data\n",
    "X_train_counts = vectorizer.fit_transform(train['Preprocess'])\n",
    "X_train_BOW = X_train_counts.toarray().tolist()\n",
    "X_train_BOW_split, X_test_BOW_split, y_train_BOW_split, y_test_BOW_split = train_test_split(X_train_BOW, y_train)\n",
    "\n",
    "# transform & split test data\n",
    "X_test_counts = vectorizer.transform(test['Preprocess'])\n",
    "X_test_BOW = X_test_counts.toarray().tolist()"
   ]
  },
  {
   "cell_type": "markdown",
   "id": "02e37827",
   "metadata": {},
   "source": [
    "## TF * IDF"
   ]
  },
  {
   "cell_type": "code",
   "execution_count": 9,
   "id": "3ff80552",
   "metadata": {},
   "outputs": [],
   "source": [
    "# Prepare TF IDF train and test dataset\n",
    "tfidf_converter = TfidfVectorizer(max_features=1000)\n",
    "X_train_tfidf = tfidf_converter.fit_transform(train['Preprocess']).toarray()\n",
    "\n",
    "# Split train data into train and test\n",
    "X_train_tfidf_split, X_test_tfidf_split, y_train_tfidf_split, y_test_tfidf_split = train_test_split(X_train_tfidf, y_train)\n",
    "\n",
    "# Prepare test data (transform)\n",
    "X_test_tfidf = tfidf_converter.transform(test['Preprocess']).toarray()"
   ]
  },
  {
   "cell_type": "markdown",
   "id": "9d6d479c",
   "metadata": {},
   "source": [
    "## Word2vec"
   ]
  },
  {
   "cell_type": "code",
   "execution_count": 10,
   "id": "a36417c4",
   "metadata": {},
   "outputs": [],
   "source": [
    "import gensim\n",
    "\n",
    "# Turn preprocessed string into list of words\n",
    "train['Preprocess - Word2Vec'] = train['Preprocess'].apply(lambda x: gensim.utils.simple_preprocess(x))\n",
    "test['Preprocess - Word2Vec'] = test['Preprocess'].apply(lambda x: gensim.utils.simple_preprocess(x))"
   ]
  },
  {
   "cell_type": "code",
   "execution_count": 11,
   "id": "6e94191e",
   "metadata": {},
   "outputs": [],
   "source": [
    "# Split the train dataset\n",
    "X_train_w2v_split, X_test_w2v_split, y_train_w2v_split, y_test_w2v_split = train_test_split(\n",
    "                                                train['Preprocess - Word2Vec'], y_train)\n",
    "\n",
    "# Reset index of splitted data for dropping rows later\n",
    "y_train_w2v_split = y_train_w2v_split.reset_index(drop=True)\n",
    "y_test_w2v_split = y_test_w2v_split.reset_index(drop=True)"
   ]
  },
  {
   "cell_type": "code",
   "execution_count": 12,
   "id": "a00665d1",
   "metadata": {
    "scrolled": true
   },
   "outputs": [
    {
     "data": {
      "text/plain": [
       "[('amp', 0.9999384880065918),\n",
       " ('got', 0.9999359846115112),\n",
       " ('one', 0.9999354481697083),\n",
       " ('get', 0.9999346733093262),\n",
       " ('watch', 0.9999340176582336),\n",
       " ('lol', 0.9999338388442993),\n",
       " ('still', 0.9999331831932068),\n",
       " ('come', 0.9999328851699829),\n",
       " ('love', 0.999932587146759),\n",
       " ('make', 0.9999324679374695)]"
      ]
     },
     "execution_count": 12,
     "metadata": {},
     "output_type": "execute_result"
    }
   ],
   "source": [
    "# Train w2v model on splitted train data\n",
    "w2v_model = gensim.models.Word2Vec(X_train_w2v_split,\n",
    "                                   vector_size=1000,\n",
    "                                   window=5,\n",
    "                                   min_count=2)\n",
    "\n",
    "# Words that are most related to 'die'\n",
    "w2v_model.wv.most_similar('die')"
   ]
  },
  {
   "cell_type": "code",
   "execution_count": 13,
   "id": "032ea6ce",
   "metadata": {},
   "outputs": [],
   "source": [
    "# Vectorize splitted train data\n",
    "X_train_w2v_vector_split = []\n",
    "train_drop_y = []\n",
    "\n",
    "# Take the summation of word vectors for every sentence\n",
    "for i, sentence in enumerate(X_train_w2v_split):\n",
    "    \n",
    "    sentence_vectors = [w2v_model.wv[word] for word in sentence if word in w2v_model.wv]\n",
    "    \n",
    "    if sentence_vectors:\n",
    "        sentence_vector = np.sum(sentence_vectors, axis=0)\n",
    "        X_train_w2v_vector_split.append(sentence_vector)\n",
    "    \n",
    "    else:\n",
    "        train_drop_y.append(i)\n",
    "\n",
    "# Convert list of train vectors into a 2D array\n",
    "X_train_w2v_vector_split = np.vstack(X_train_w2v_vector_split)\n",
    "y_train_w2v_split = y_train_w2v_split.drop(index=train_drop_y)"
   ]
  },
  {
   "cell_type": "code",
   "execution_count": 14,
   "id": "1eba49d6",
   "metadata": {},
   "outputs": [],
   "source": [
    "# Vectorize the test data\n",
    "X_test_w2v_vector = []\n",
    "test_drop_y = []\n",
    "\n",
    "for i, sentence in enumerate(test['Preprocess - Word2Vec']):\n",
    "    \n",
    "    sentence_vectors = [w2v_model.wv[word] for word in sentence if word in w2v_model.wv]\n",
    "    \n",
    "    if sentence_vectors:\n",
    "        sentence_vector = np.sum(sentence_vectors, axis=0)\n",
    "        X_test_w2v_vector.append(sentence_vector)\n",
    "    \n",
    "    else:\n",
    "        test_drop_y.append(i)\n",
    "\n",
    "# Convert list of train vectors into a 2D array\n",
    "X_test_w2v_vector = np.vstack(X_test_w2v_vector)\n",
    "y_test_w2v = y_test.drop(index=test_drop_y)"
   ]
  },
  {
   "cell_type": "markdown",
   "id": "f8911fe7",
   "metadata": {},
   "source": [
    "# Classification Model Evaluation"
   ]
  },
  {
   "cell_type": "code",
   "execution_count": 15,
   "id": "fe041e61",
   "metadata": {},
   "outputs": [],
   "source": [
    "from sklearn.linear_model import LogisticRegression\n",
    "from sklearn.svm import SVC\n",
    "from sklearn.naive_bayes import GaussianNB\n",
    "from sklearn.ensemble import RandomForestClassifier\n",
    "from sklearn.metrics import classification_report\n",
    "\n",
    "lr = LogisticRegression()\n",
    "svc = SVC(probability=True)\n",
    "nb = GaussianNB()\n",
    "rfc = RandomForestClassifier()"
   ]
  },
  {
   "cell_type": "markdown",
   "id": "cd7949b9",
   "metadata": {},
   "source": [
    "## Bag of Words"
   ]
  },
  {
   "cell_type": "code",
   "execution_count": 16,
   "id": "5b5a730b",
   "metadata": {},
   "outputs": [
    {
     "name": "stdout",
     "output_type": "stream",
     "text": [
      "Bag of Words:\n",
      "Logistic Regression\n",
      "              precision    recall  f1-score   support\n",
      "\n",
      "           0       0.80      0.69      0.74       177\n",
      "           1       0.73      0.84      0.78       182\n",
      "\n",
      "    accuracy                           0.76       359\n",
      "   macro avg       0.77      0.76      0.76       359\n",
      "weighted avg       0.77      0.76      0.76       359\n",
      "\n",
      "\n",
      "Standard Vector Machine\n",
      "              precision    recall  f1-score   support\n",
      "\n",
      "           0       0.80      0.64      0.71       177\n",
      "           1       0.71      0.85      0.77       182\n",
      "\n",
      "    accuracy                           0.74       359\n",
      "   macro avg       0.75      0.74      0.74       359\n",
      "weighted avg       0.75      0.74      0.74       359\n",
      "\n",
      "\n",
      "Naive Bayes classification\n",
      "              precision    recall  f1-score   support\n",
      "\n",
      "           0       0.73      0.55      0.63       177\n",
      "           1       0.65      0.80      0.72       182\n",
      "\n",
      "    accuracy                           0.68       359\n",
      "   macro avg       0.69      0.68      0.67       359\n",
      "weighted avg       0.69      0.68      0.67       359\n",
      "\n",
      "\n",
      "Random Forest classification\n",
      "              precision    recall  f1-score   support\n",
      "\n",
      "           0       0.81      0.64      0.71       177\n",
      "           1       0.71      0.85      0.77       182\n",
      "\n",
      "    accuracy                           0.75       359\n",
      "   macro avg       0.76      0.75      0.74       359\n",
      "weighted avg       0.76      0.75      0.74       359\n",
      "\n"
     ]
    }
   ],
   "source": [
    "print(\"Bag of Words:\")\n",
    "\n",
    "# Logistic Regression\n",
    "lr.fit(X_train_BOW_split, y_train_BOW_split)\n",
    "#y_pred_BOW_lr = lr.predict(X_test_BOW_split)\n",
    "print(\"Logistic Regression\")\n",
    "#print(classification_report(y_test_tfidf_split, y_pred_BOW_lr))\n",
    "\n",
    "y_pred_BOW_lr = lr.predict(X_test_BOW)\n",
    "print(classification_report(y_test, y_pred_BOW_lr))\n",
    "print()\n",
    "\n",
    "# SVM\n",
    "svc.fit(X_train_BOW_split, y_train_BOW_split)\n",
    "#y_pred_BOW_SVM = svc.predict(X_test_BOW_split)\n",
    "print(\"Standard Vector Machine\")\n",
    "#print(classification_report(y_test_tfidf_split, y_pred_BOW_SVM))\n",
    "\n",
    "y_pred_BOW_SVM = svc.predict(X_test_BOW)\n",
    "print(classification_report(y_test, y_pred_BOW_SVM))\n",
    "print()\n",
    "\n",
    "# Naive Bay\n",
    "nb.fit(X_train_BOW_split, y_train_BOW_split)\n",
    "#y_pred_BOW_nb = nb.predict(X_test_BOW_split)\n",
    "print(\"Naive Bayes classification\")\n",
    "#print(classification_report(y_test_tfidf_split, y_pred_BOW_nb))\n",
    "\n",
    "y_pred_BOW_nb = nb.predict(X_test_BOW)\n",
    "print(classification_report(y_test, y_pred_BOW_nb))\n",
    "print()\n",
    "\n",
    "# Random Forest\n",
    "rfc.fit(X_train_BOW_split, y_train_BOW_split)\n",
    "#y_pred_BOW_rfc = rfc.predict(X_test_BOW_split)\n",
    "print(\"Random Forest classification\")\n",
    "#print(classification_report(y_test_tfidf_split, y_pred_BOW_rfc))\n",
    "\n",
    "y_pred_BOW_rfc = rfc.predict(X_test_BOW)\n",
    "print(classification_report(y_test, y_pred_BOW_rfc))"
   ]
  },
  {
   "cell_type": "markdown",
   "id": "20aff9e8",
   "metadata": {},
   "source": [
    "## TF IDF"
   ]
  },
  {
   "cell_type": "code",
   "execution_count": 17,
   "id": "35172b8f",
   "metadata": {
    "scrolled": false
   },
   "outputs": [
    {
     "name": "stdout",
     "output_type": "stream",
     "text": [
      "TF IDF:\n",
      "Logistic Regression\n",
      "              precision    recall  f1-score   support\n",
      "\n",
      "           0       0.81      0.67      0.73       177\n",
      "           1       0.73      0.85      0.78       182\n",
      "\n",
      "    accuracy                           0.76       359\n",
      "   macro avg       0.77      0.76      0.76       359\n",
      "weighted avg       0.77      0.76      0.76       359\n",
      "\n",
      "\n",
      "Standard Vector Machine\n",
      "              precision    recall  f1-score   support\n",
      "\n",
      "           0       0.79      0.66      0.72       177\n",
      "           1       0.72      0.83      0.77       182\n",
      "\n",
      "    accuracy                           0.75       359\n",
      "   macro avg       0.75      0.75      0.74       359\n",
      "weighted avg       0.75      0.75      0.74       359\n",
      "\n",
      "\n",
      "Naive Bayes\n",
      "              precision    recall  f1-score   support\n",
      "\n",
      "           0       0.76      0.61      0.68       177\n",
      "           1       0.68      0.81      0.74       182\n",
      "\n",
      "    accuracy                           0.71       359\n",
      "   macro avg       0.72      0.71      0.71       359\n",
      "weighted avg       0.72      0.71      0.71       359\n",
      "\n",
      "\n",
      "Naive Bayes\n",
      "              precision    recall  f1-score   support\n",
      "\n",
      "           0       0.76      0.63      0.69       177\n",
      "           1       0.69      0.80      0.74       182\n",
      "\n",
      "    accuracy                           0.72       359\n",
      "   macro avg       0.72      0.71      0.71       359\n",
      "weighted avg       0.72      0.72      0.71       359\n",
      "\n"
     ]
    }
   ],
   "source": [
    "print(\"TF IDF:\")\n",
    "\n",
    "# Logistic Regression\n",
    "lr.fit(X_train_tfidf_split, y_train_tfidf_split)\n",
    "print(\"Logistic Regression\")\n",
    "y_pred_tfidf_lr = lr.predict(X_test_tfidf)\n",
    "print(classification_report(y_test, y_pred_tfidf_lr))\n",
    "print()\n",
    "\n",
    "# SVM\n",
    "svc.fit(X_train_tfidf_split, y_train_tfidf_split)\n",
    "print(\"Standard Vector Machine\")\n",
    "y_pred_tfidf_SVM = svc.predict(X_test_tfidf)\n",
    "print(classification_report(y_test, y_pred_tfidf_SVM))\n",
    "print()\n",
    "\n",
    "# Naive Bayes\n",
    "nb.fit(X_train_tfidf_split, y_train_tfidf_split)\n",
    "print(\"Naive Bayes\")\n",
    "y_pred_tfidf_nb = nb.predict(X_test_tfidf)\n",
    "print(classification_report(y_test, y_pred_tfidf_nb))\n",
    "print()\n",
    "\n",
    "# Random Forest\n",
    "rfc.fit(X_train_tfidf_split, y_train_tfidf_split)\n",
    "print(\"Naive Bayes\")\n",
    "y_pred_tfidf_rfc = rfc.predict(X_test_tfidf)\n",
    "print(classification_report(y_test, y_pred_tfidf_rfc))"
   ]
  },
  {
   "cell_type": "markdown",
   "id": "87ac4932",
   "metadata": {},
   "source": [
    "## Word 2 Vector"
   ]
  },
  {
   "cell_type": "code",
   "execution_count": 18,
   "id": "cc0235f1",
   "metadata": {},
   "outputs": [
    {
     "name": "stdout",
     "output_type": "stream",
     "text": [
      "Logistic Regression\n",
      "              precision    recall  f1-score   support\n",
      "\n",
      "           0       0.64      0.60      0.62       177\n",
      "           1       0.63      0.66      0.64       179\n",
      "\n",
      "    accuracy                           0.63       356\n",
      "   macro avg       0.63      0.63      0.63       356\n",
      "weighted avg       0.63      0.63      0.63       356\n",
      "\n",
      "\n",
      "SVM\n",
      "              precision    recall  f1-score   support\n",
      "\n",
      "           0       0.43      0.14      0.21       177\n",
      "           1       0.49      0.82      0.61       179\n",
      "\n",
      "    accuracy                           0.48       356\n",
      "   macro avg       0.46      0.48      0.41       356\n",
      "weighted avg       0.46      0.48      0.41       356\n",
      "\n",
      "\n",
      "Naive Bayes classification\n",
      "              precision    recall  f1-score   support\n",
      "\n",
      "           0       0.48      0.32      0.38       177\n",
      "           1       0.50      0.66      0.57       179\n",
      "\n",
      "    accuracy                           0.49       356\n",
      "   macro avg       0.49      0.49      0.48       356\n",
      "weighted avg       0.49      0.49      0.48       356\n",
      "\n",
      "\n",
      "              precision    recall  f1-score   support\n",
      "\n",
      "           0       0.61      0.53      0.57       177\n",
      "           1       0.59      0.66      0.62       179\n",
      "\n",
      "    accuracy                           0.60       356\n",
      "   macro avg       0.60      0.60      0.59       356\n",
      "weighted avg       0.60      0.60      0.59       356\n",
      "\n"
     ]
    }
   ],
   "source": [
    "# Logistic Regression\n",
    "lr.fit(X_train_w2v_vector_split, y_train_w2v_split)\n",
    "y_pred_w2v_lr = lr.predict(X_test_w2v_vector)\n",
    "print(\"Logistic Regression\")\n",
    "print(classification_report(y_test_w2v, y_pred_w2v_lr))\n",
    "print()\n",
    "\n",
    "# SVM\n",
    "svc.fit(X_train_w2v_vector_split, y_train_w2v_split)\n",
    "y_pred_w2v_svc = svc.predict(X_test_w2v_vector)\n",
    "print(\"SVM\")\n",
    "print(classification_report(y_test_w2v, y_pred_w2v_svc))\n",
    "print()\n",
    "\n",
    "# Naive Bayes\n",
    "nb.fit(X_train_w2v_vector_split, y_train_w2v_split)\n",
    "y_pred_w2v_nb = nb.predict(X_test_w2v_vector)\n",
    "print(\"Naive Bayes classification\")\n",
    "print(classification_report(y_test_w2v, y_pred_w2v_nb))\n",
    "print()\n",
    "\n",
    "# Random Forest\n",
    "rfc.fit(X_train_w2v_vector_split, y_train_w2v_split)\n",
    "y_pred_w2v_rfc = rfc.predict(X_test_w2v_vector)\n",
    "print(classification_report(y_test_w2v, y_pred_w2v_rfc))"
   ]
  }
 ],
 "metadata": {
  "kernelspec": {
   "display_name": "Python 3 (ipykernel)",
   "language": "python",
   "name": "python3"
  },
  "language_info": {
   "codemirror_mode": {
    "name": "ipython",
    "version": 3
   },
   "file_extension": ".py",
   "mimetype": "text/x-python",
   "name": "python",
   "nbconvert_exporter": "python",
   "pygments_lexer": "ipython3",
   "version": "3.9.13"
  }
 },
 "nbformat": 4,
 "nbformat_minor": 5
}
